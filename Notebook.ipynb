{
 "cells": [
  {
   "cell_type": "markdown",
   "metadata": {},
   "source": [
    "## Import modules"
   ]
  },
  {
   "cell_type": "code",
   "execution_count": 1,
   "metadata": {},
   "outputs": [],
   "source": [
    "import pandas as pd"
   ]
  },
  {
   "cell_type": "code",
   "execution_count": 2,
   "metadata": {},
   "outputs": [],
   "source": [
    "import experiments"
   ]
  },
  {
   "cell_type": "markdown",
   "metadata": {},
   "source": [
    "## Initialize single Cell Experiment"
   ]
  },
  {
   "cell_type": "markdown",
   "metadata": {},
   "source": [
    "available classes:\n",
    "```python\n",
    "experiments.Chromium_10X()\n",
    "```"
   ]
  },
  {
   "cell_type": "code",
   "execution_count": 3,
   "metadata": {},
   "outputs": [],
   "source": [
    "experiment = experiments.Chromium_10X(\n",
    "    accession='123abc'\n",
    ")"
   ]
  },
  {
   "cell_type": "code",
   "execution_count": 4,
   "metadata": {},
   "outputs": [
    {
     "data": {
      "text/plain": [
       "['kb_ref']"
      ]
     },
     "execution_count": 4,
     "metadata": {},
     "output_type": "execute_result"
    }
   ],
   "source": [
    "experiment.available_methods"
   ]
  },
  {
   "cell_type": "markdown",
   "metadata": {},
   "source": [
    "## Index creation"
   ]
  },
  {
   "cell_type": "code",
   "execution_count": 5,
   "metadata": {},
   "outputs": [
    {
     "data": {
      "text/html": [
       "<div>\n",
       "<style scoped>\n",
       "    .dataframe tbody tr th:only-of-type {\n",
       "        vertical-align: middle;\n",
       "    }\n",
       "\n",
       "    .dataframe tbody tr th {\n",
       "        vertical-align: top;\n",
       "    }\n",
       "\n",
       "    .dataframe thead th {\n",
       "        text-align: right;\n",
       "    }\n",
       "</style>\n",
       "<table border=\"1\" class=\"dataframe\">\n",
       "  <thead>\n",
       "    <tr style=\"text-align: right;\">\n",
       "      <th></th>\n",
       "      <th>Regions</th>\n",
       "      <th>Description</th>\n",
       "      <th>Download_GTF</th>\n",
       "      <th>filename</th>\n",
       "    </tr>\n",
       "    <tr>\n",
       "      <th>Content</th>\n",
       "      <th></th>\n",
       "      <th></th>\n",
       "      <th></th>\n",
       "      <th></th>\n",
       "    </tr>\n",
       "  </thead>\n",
       "  <tbody>\n",
       "    <tr>\n",
       "      <th>Comprehensive gene annotation</th>\n",
       "      <td>CHR</td>\n",
       "      <td>It contains the comprehensive gene annotation ...</td>\n",
       "      <td>https://ftp.ebi.ac.uk/pub/databases/gencode/Ge...</td>\n",
       "      <td>gencode.v46.annotation.gtf.gz</td>\n",
       "    </tr>\n",
       "    <tr>\n",
       "      <th>Comprehensive gene annotation</th>\n",
       "      <td>ALL</td>\n",
       "      <td>It contains the comprehensive gene annotation ...</td>\n",
       "      <td>https://ftp.ebi.ac.uk/pub/databases/gencode/Ge...</td>\n",
       "      <td>gencode.v46.chr_patch_hapl_scaff.annotation.gt...</td>\n",
       "    </tr>\n",
       "    <tr>\n",
       "      <th>Comprehensive gene annotation</th>\n",
       "      <td>PRI</td>\n",
       "      <td>It contains the comprehensive gene annotation ...</td>\n",
       "      <td>https://ftp.ebi.ac.uk/pub/databases/gencode/Ge...</td>\n",
       "      <td>gencode.v46.primary_assembly.annotation.gtf.gz</td>\n",
       "    </tr>\n",
       "    <tr>\n",
       "      <th>Basic gene annotation</th>\n",
       "      <td>CHR</td>\n",
       "      <td>It contains the basic gene annotation on the r...</td>\n",
       "      <td>https://ftp.ebi.ac.uk/pub/databases/gencode/Ge...</td>\n",
       "      <td>gencode.v46.basic.annotation.gtf.gz</td>\n",
       "    </tr>\n",
       "    <tr>\n",
       "      <th>Basic gene annotation</th>\n",
       "      <td>ALL</td>\n",
       "      <td>It contains the basic gene annotation on the r...</td>\n",
       "      <td>https://ftp.ebi.ac.uk/pub/databases/gencode/Ge...</td>\n",
       "      <td>gencode.v46.chr_patch_hapl_scaff.basic.annotat...</td>\n",
       "    </tr>\n",
       "    <tr>\n",
       "      <th>Basic gene annotation</th>\n",
       "      <td>PRI</td>\n",
       "      <td>It contains the basic gene annotation on the p...</td>\n",
       "      <td>https://ftp.ebi.ac.uk/pub/databases/gencode/Ge...</td>\n",
       "      <td>gencode.v46.primary_assembly.basic.annotation....</td>\n",
       "    </tr>\n",
       "    <tr>\n",
       "      <th>Long non-coding RNA gene annotation</th>\n",
       "      <td>CHR</td>\n",
       "      <td>It contains the comprehensive gene annotation ...</td>\n",
       "      <td>https://ftp.ebi.ac.uk/pub/databases/gencode/Ge...</td>\n",
       "      <td>gencode.v46.long_noncoding_RNAs.gtf.gz</td>\n",
       "    </tr>\n",
       "    <tr>\n",
       "      <th>PolyA feature annotation</th>\n",
       "      <td>CHR</td>\n",
       "      <td>It contains the polyA features (polyA_signal, ...</td>\n",
       "      <td>https://ftp.ebi.ac.uk/pub/databases/gencode/Ge...</td>\n",
       "      <td>gencode.v46.polyAs.gtf.gz</td>\n",
       "    </tr>\n",
       "    <tr>\n",
       "      <th>Consensus pseudogenes predicted by the Yale and UCSC pipelines</th>\n",
       "      <td>CHR</td>\n",
       "      <td>2-way consensus (retrotransposed) pseudogenes ...</td>\n",
       "      <td>https://ftp.ebi.ac.uk/pub/databases/gencode/Ge...</td>\n",
       "      <td>gencode.v46.2wayconspseudos.gtf.gz</td>\n",
       "    </tr>\n",
       "    <tr>\n",
       "      <th>Predicted tRNA genes</th>\n",
       "      <td>CHR</td>\n",
       "      <td>tRNA genes predicted by ENSEMBL on the referen...</td>\n",
       "      <td>https://ftp.ebi.ac.uk/pub/databases/gencode/Ge...</td>\n",
       "      <td>gencode.v46.tRNAs.gtf.gz</td>\n",
       "    </tr>\n",
       "  </tbody>\n",
       "</table>\n",
       "</div>"
      ],
      "text/plain": [
       "                                                   Regions   \\\n",
       "Content                                                       \n",
       "Comprehensive gene annotation                           CHR   \n",
       "Comprehensive gene annotation                          ALL    \n",
       "Comprehensive gene annotation                           PRI   \n",
       "Basic gene annotation                                  CHR    \n",
       "Basic gene annotation                                  ALL    \n",
       "Basic gene annotation                                  PRI    \n",
       "Long non-coding RNA gene annotation                    CHR    \n",
       "PolyA feature annotation                               CHR    \n",
       "Consensus pseudogenes predicted by the Yale and...     CHR    \n",
       "Predicted tRNA genes                                   CHR    \n",
       "\n",
       "                                                                                         Description   \\\n",
       "Content                                                                                                 \n",
       "Comprehensive gene annotation                       It contains the comprehensive gene annotation ...   \n",
       "Comprehensive gene annotation                       It contains the comprehensive gene annotation ...   \n",
       "Comprehensive gene annotation                       It contains the comprehensive gene annotation ...   \n",
       "Basic gene annotation                               It contains the basic gene annotation on the r...   \n",
       "Basic gene annotation                               It contains the basic gene annotation on the r...   \n",
       "Basic gene annotation                               It contains the basic gene annotation on the p...   \n",
       "Long non-coding RNA gene annotation                 It contains the comprehensive gene annotation ...   \n",
       "PolyA feature annotation                            It contains the polyA features (polyA_signal, ...   \n",
       "Consensus pseudogenes predicted by the Yale and...  2-way consensus (retrotransposed) pseudogenes ...   \n",
       "Predicted tRNA genes                                tRNA genes predicted by ENSEMBL on the referen...   \n",
       "\n",
       "                                                                                         Download_GTF  \\\n",
       "Content                                                                                                 \n",
       "Comprehensive gene annotation                       https://ftp.ebi.ac.uk/pub/databases/gencode/Ge...   \n",
       "Comprehensive gene annotation                       https://ftp.ebi.ac.uk/pub/databases/gencode/Ge...   \n",
       "Comprehensive gene annotation                       https://ftp.ebi.ac.uk/pub/databases/gencode/Ge...   \n",
       "Basic gene annotation                               https://ftp.ebi.ac.uk/pub/databases/gencode/Ge...   \n",
       "Basic gene annotation                               https://ftp.ebi.ac.uk/pub/databases/gencode/Ge...   \n",
       "Basic gene annotation                               https://ftp.ebi.ac.uk/pub/databases/gencode/Ge...   \n",
       "Long non-coding RNA gene annotation                 https://ftp.ebi.ac.uk/pub/databases/gencode/Ge...   \n",
       "PolyA feature annotation                            https://ftp.ebi.ac.uk/pub/databases/gencode/Ge...   \n",
       "Consensus pseudogenes predicted by the Yale and...  https://ftp.ebi.ac.uk/pub/databases/gencode/Ge...   \n",
       "Predicted tRNA genes                                https://ftp.ebi.ac.uk/pub/databases/gencode/Ge...   \n",
       "\n",
       "                                                                                             filename  \n",
       "Content                                                                                                \n",
       "Comprehensive gene annotation                                           gencode.v46.annotation.gtf.gz  \n",
       "Comprehensive gene annotation                       gencode.v46.chr_patch_hapl_scaff.annotation.gt...  \n",
       "Comprehensive gene annotation                         gencode.v46.primary_assembly.annotation.gtf.gz   \n",
       "Basic gene annotation                                             gencode.v46.basic.annotation.gtf.gz  \n",
       "Basic gene annotation                               gencode.v46.chr_patch_hapl_scaff.basic.annotat...  \n",
       "Basic gene annotation                               gencode.v46.primary_assembly.basic.annotation....  \n",
       "Long non-coding RNA gene annotation                            gencode.v46.long_noncoding_RNAs.gtf.gz  \n",
       "PolyA feature annotation                                                    gencode.v46.polyAs.gtf.gz  \n",
       "Consensus pseudogenes predicted by the Yale and...                 gencode.v46.2wayconspseudos.gtf.gz  \n",
       "Predicted tRNA genes                                                         gencode.v46.tRNAs.gtf.gz  "
      ]
     },
     "execution_count": 5,
     "metadata": {},
     "output_type": "execute_result"
    }
   ],
   "source": [
    "gtfs = experiment.available_gtf_files\n",
    "gtfs"
   ]
  },
  {
   "cell_type": "code",
   "execution_count": 6,
   "metadata": {},
   "outputs": [
    {
     "data": {
      "text/plain": [
       "[Regions                                                      ALL \n",
       " Description     It contains the comprehensive gene annotation ...\n",
       " Download_GTF    https://ftp.ebi.ac.uk/pub/databases/gencode/Ge...\n",
       " filename        gencode.v46.chr_patch_hapl_scaff.annotation.gt...\n",
       " Name: Comprehensive gene annotation , dtype: object,\n",
       " Regions                                                      CHR \n",
       " Description     It contains the comprehensive gene annotation ...\n",
       " Download_GTF    https://ftp.ebi.ac.uk/pub/databases/gencode/Ge...\n",
       " filename                   gencode.v46.long_noncoding_RNAs.gtf.gz\n",
       " Name: Long non-coding RNA gene annotation , dtype: object,\n",
       " Regions                                                      CHR \n",
       " Description     tRNA genes predicted by ENSEMBL on the referen...\n",
       " Download_GTF    https://ftp.ebi.ac.uk/pub/databases/gencode/Ge...\n",
       " filename                                 gencode.v46.tRNAs.gtf.gz\n",
       " Name: Predicted tRNA genes , dtype: object]"
      ]
     },
     "execution_count": 6,
     "metadata": {},
     "output_type": "execute_result"
    }
   ],
   "source": [
    "experiment.gtf = [gtfs.iloc[1], gtfs.iloc[6], gtfs.iloc[9]]\n",
    "#experiment.gtf = gtfs.iloc[1]\n",
    "experiment.gtf"
   ]
  },
  {
   "cell_type": "code",
   "execution_count": 7,
   "metadata": {},
   "outputs": [
    {
     "data": {
      "text/plain": [
       "list"
      ]
     },
     "execution_count": 7,
     "metadata": {},
     "output_type": "execute_result"
    }
   ],
   "source": [
    "type(experiment.gtf)"
   ]
  },
  {
   "cell_type": "code",
   "execution_count": 8,
   "metadata": {},
   "outputs": [
    {
     "data": {
      "text/html": [
       "<div>\n",
       "<style scoped>\n",
       "    .dataframe tbody tr th:only-of-type {\n",
       "        vertical-align: middle;\n",
       "    }\n",
       "\n",
       "    .dataframe tbody tr th {\n",
       "        vertical-align: top;\n",
       "    }\n",
       "\n",
       "    .dataframe thead th {\n",
       "        text-align: right;\n",
       "    }\n",
       "</style>\n",
       "<table border=\"1\" class=\"dataframe\">\n",
       "  <thead>\n",
       "    <tr style=\"text-align: right;\">\n",
       "      <th></th>\n",
       "      <th>Regions</th>\n",
       "      <th>Description</th>\n",
       "      <th>Download_fasta</th>\n",
       "    </tr>\n",
       "    <tr>\n",
       "      <th>Content</th>\n",
       "      <th></th>\n",
       "      <th></th>\n",
       "      <th></th>\n",
       "    </tr>\n",
       "  </thead>\n",
       "  <tbody>\n",
       "    <tr>\n",
       "      <th>Transcript sequences</th>\n",
       "      <td>CHR</td>\n",
       "      <td>\"Nucleotide sequences of all transcripts on t...</td>\n",
       "      <td>https://ftp.ebi.ac.uk/pub/databases/gencode/G...</td>\n",
       "    </tr>\n",
       "    <tr>\n",
       "      <th>Protein-coding transcript sequences</th>\n",
       "      <td>CHR</td>\n",
       "      <td>\"Nucleotide sequences of coding transcripts o...</td>\n",
       "      <td>https://ftp.ebi.ac.uk/pub/databases/gencode/G...</td>\n",
       "    </tr>\n",
       "    <tr>\n",
       "      <th>Protein-coding transcript translation sequences</th>\n",
       "      <td>CHR</td>\n",
       "      <td>\"Amino acid sequences of coding transcript tr...</td>\n",
       "      <td>https://ftp.ebi.ac.uk/pub/databases/gencode/G...</td>\n",
       "    </tr>\n",
       "    <tr>\n",
       "      <th>Long non-coding RNA transcript sequences</th>\n",
       "      <td>CHR</td>\n",
       "      <td>\"Nucleotide sequences of long non-coding RNA ...</td>\n",
       "      <td>https://ftp.ebi.ac.uk/pub/databases/gencode/G...</td>\n",
       "    </tr>\n",
       "    <tr>\n",
       "      <th>Genome sequence (GRCh38.p14)</th>\n",
       "      <td>ALL</td>\n",
       "      <td>\"Nucleotide sequence of the GRCh38.p14 genome...</td>\n",
       "      <td>https://ftp.ebi.ac.uk/pub/databases/gencode/G...</td>\n",
       "    </tr>\n",
       "    <tr>\n",
       "      <th>Genome sequence primary assembly (GRCh38)</th>\n",
       "      <td>PRI</td>\n",
       "      <td>\"Nucleotide sequence of the GRCh38 primary ge...</td>\n",
       "      <td>https://ftp.ebi.ac.uk/pub/databases/gencode/G...</td>\n",
       "    </tr>\n",
       "  </tbody>\n",
       "</table>\n",
       "</div>"
      ],
      "text/plain": [
       "                                                Regions  \\\n",
       "Content                                                   \n",
       "Transcript sequences                                CHR   \n",
       "Protein-coding transcript sequences                 CHR   \n",
       "Protein-coding transcript translation sequences     CHR   \n",
       "Long non-coding RNA transcript sequences            CHR   \n",
       "Genome sequence (GRCh38.p14)                        ALL   \n",
       "Genome sequence primary assembly (GRCh38)           PRI   \n",
       "\n",
       "                                                                                       Description  \\\n",
       "Content                                                                                              \n",
       "Transcript sequences                              \"Nucleotide sequences of all transcripts on t...   \n",
       "Protein-coding transcript sequences               \"Nucleotide sequences of coding transcripts o...   \n",
       "Protein-coding transcript translation sequences   \"Amino acid sequences of coding transcript tr...   \n",
       "Long non-coding RNA transcript sequences          \"Nucleotide sequences of long non-coding RNA ...   \n",
       "Genome sequence (GRCh38.p14)                      \"Nucleotide sequence of the GRCh38.p14 genome...   \n",
       "Genome sequence primary assembly (GRCh38)         \"Nucleotide sequence of the GRCh38 primary ge...   \n",
       "\n",
       "                                                                                    Download_fasta  \n",
       "Content                                                                                             \n",
       "Transcript sequences                              https://ftp.ebi.ac.uk/pub/databases/gencode/G...  \n",
       "Protein-coding transcript sequences               https://ftp.ebi.ac.uk/pub/databases/gencode/G...  \n",
       "Protein-coding transcript translation sequences   https://ftp.ebi.ac.uk/pub/databases/gencode/G...  \n",
       "Long non-coding RNA transcript sequences          https://ftp.ebi.ac.uk/pub/databases/gencode/G...  \n",
       "Genome sequence (GRCh38.p14)                      https://ftp.ebi.ac.uk/pub/databases/gencode/G...  \n",
       "Genome sequence primary assembly (GRCh38)         https://ftp.ebi.ac.uk/pub/databases/gencode/G...  "
      ]
     },
     "execution_count": 8,
     "metadata": {},
     "output_type": "execute_result"
    }
   ],
   "source": [
    "fastas = experiment.available_fasta_files\n",
    "fastas"
   ]
  },
  {
   "cell_type": "code",
   "execution_count": 9,
   "metadata": {},
   "outputs": [
    {
     "data": {
      "text/plain": [
       "Regions                                                         PRI\n",
       "Description        \"Nucleotide sequence of the GRCh38 primary ge...\n",
       "Download_fasta     https://ftp.ebi.ac.uk/pub/databases/gencode/G...\n",
       "Name: Genome sequence primary assembly (GRCh38), dtype: object"
      ]
     },
     "execution_count": 9,
     "metadata": {},
     "output_type": "execute_result"
    }
   ],
   "source": [
    "experiment.fasta = fastas.iloc[5]\n",
    "experiment.fasta"
   ]
  },
  {
   "cell_type": "code",
   "execution_count": 10,
   "metadata": {},
   "outputs": [
    {
     "name": "stderr",
     "output_type": "stream",
     "text": [
      "/mnt/LaCIE/ceger/Projects/generalized_mapping_pipeline/experiments.py:46: FutureWarning: Series.__getitem__ treating keys as positions is deprecated. In a future version, integer keys will always be treated as labels (consistent with DataFrame behavior). To access a value by position, use `ser.iloc[pos]`\n",
      "  url = gtf[-2]\n",
      "/mnt/LaCIE/ceger/Projects/generalized_mapping_pipeline/experiments.py:47: FutureWarning: Series.__getitem__ treating keys as positions is deprecated. In a future version, integer keys will always be treated as labels (consistent with DataFrame behavior). To access a value by position, use `ser.iloc[pos]`\n",
      "  input_gtf_element = os.path.join(self.index_input, gtf[-1])\n"
     ]
    },
    {
     "data": {
      "text/plain": [
       "['kb',\n",
       " 'ref',\n",
       " '-i',\n",
       " '/mnt/LaCIE/ceger/Projects/generalized_mapping_pipeline/mapping_dir/123abc/index_output/transcriptome.idx',\n",
       " '-g',\n",
       " '/mnt/LaCIE/ceger/Projects/generalized_mapping_pipeline/mapping_dir/123abc/index_output/transcripts_to_genes.txt',\n",
       " '-f1',\n",
       " '/mnt/LaCIE/ceger/Projects/generalized_mapping_pipeline/mapping_dir/123abc/index_output/cdna.fa',\n",
       " '/mnt/LaCIE/ceger/Projects/generalized_mapping_pipeline/mapping_dir/123abc/index_input//mnt/LaCIE/ceger/Projects/generalized_mapping_pipeline/mapping_dir/123abc/index_input/gencode.v46.chr_patch_hapl_scaff.annotation.gtf.gz',\n",
       " '/mnt/LaCIE/ceger/Projects/generalized_mapping_pipeline/mapping_dir/123abc/index_input//mnt/LaCIE/ceger/Projects/generalized_mapping_pipeline/mapping_dir/123abc/index_input/gencode.v46.long_noncoding_RNAs.gtf.gz',\n",
       " '/mnt/LaCIE/ceger/Projects/generalized_mapping_pipeline/mapping_dir/123abc/index_input//mnt/LaCIE/ceger/Projects/generalized_mapping_pipeline/mapping_dir/123abc/index_input/gencode.v46.tRNAs.gtf.gz']"
      ]
     },
     "execution_count": 10,
     "metadata": {},
     "output_type": "execute_result"
    }
   ],
   "source": [
    "experiment.kb_ref(workflow='standard')"
   ]
  }
 ],
 "metadata": {
  "kernelspec": {
   "display_name": "mapping_environment",
   "language": "python",
   "name": "python3"
  },
  "language_info": {
   "codemirror_mode": {
    "name": "ipython",
    "version": 3
   },
   "file_extension": ".py",
   "mimetype": "text/x-python",
   "name": "python",
   "nbconvert_exporter": "python",
   "pygments_lexer": "ipython3",
   "version": "3.10.14"
  }
 },
 "nbformat": 4,
 "nbformat_minor": 2
}
